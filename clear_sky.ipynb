{
 "cells": [
  {
   "cell_type": "markdown",
   "metadata": {},
   "source": [
    "IMPORT HOURLY CLEAR SKY SOLAR DATA"
   ]
  },
  {
   "cell_type": "code",
   "execution_count": 1,
   "metadata": {},
   "outputs": [],
   "source": [
    "import pandas as pd"
   ]
  },
  {
   "cell_type": "code",
   "execution_count": 2,
   "metadata": {},
   "outputs": [
    {
     "name": "stdout",
     "output_type": "stream",
     "text": [
      "          daydec  Direct Beam  DirectHz  GlobalHz  DifHz\n",
      "0       1.020833          0.0       0.0       0.0    0.0\n",
      "1       1.062500          0.0       0.0       0.0    0.0\n",
      "2       1.104167          0.0       0.0       0.0    0.0\n",
      "3       1.145833          0.0       0.0       0.0    0.0\n",
      "4       1.187500          0.0       0.0       0.0    0.0\n",
      "...          ...          ...       ...       ...    ...\n",
      "8754  365.770833          0.0       0.0       0.0    0.0\n",
      "8755  365.812500          0.0       0.0       0.0    0.0\n",
      "8756  365.854167          0.0       0.0       0.0    0.0\n",
      "8757  365.895833          0.0       0.0       0.0    0.0\n",
      "8758  365.937500          0.0       0.0       0.0    0.0\n",
      "\n",
      "[8759 rows x 5 columns]\n"
     ]
    }
   ],
   "source": [
    "df = pd.read_csv('clear_sky_SA.csv')\n",
    "print(df)"
   ]
  },
  {
   "cell_type": "code",
   "execution_count": 7,
   "metadata": {},
   "outputs": [
    {
     "name": "stdout",
     "output_type": "stream",
     "text": [
      "          daydec  Direct Beam  DirectHz  GlobalHz  DifHz  day\n",
      "0       1.020833          0.0       0.0       0.0    0.0    1\n",
      "1       1.062500          0.0       0.0       0.0    0.0    1\n",
      "2       1.104167          0.0       0.0       0.0    0.0    1\n",
      "3       1.145833          0.0       0.0       0.0    0.0    1\n",
      "4       1.187500          0.0       0.0       0.0    0.0    1\n",
      "...          ...          ...       ...       ...    ...  ...\n",
      "8754  365.770833          0.0       0.0       0.0    0.0  365\n",
      "8755  365.812500          0.0       0.0       0.0    0.0  365\n",
      "8756  365.854167          0.0       0.0       0.0    0.0  365\n",
      "8757  365.895833          0.0       0.0       0.0    0.0  365\n",
      "8758  365.937500          0.0       0.0       0.0    0.0  365\n",
      "\n",
      "[8759 rows x 6 columns]\n"
     ]
    }
   ],
   "source": [
    "df['day'] = df.daydec.astype(int)\n",
    "print(df)"
   ]
  },
  {
   "cell_type": "markdown",
   "metadata": {},
   "source": [
    "CALCULATE AVERAGE DAILY GLOBAL HORIZONTAL IRRADIANCE"
   ]
  },
  {
   "cell_type": "code",
   "execution_count": 19,
   "metadata": {},
   "outputs": [
    {
     "name": "stdout",
     "output_type": "stream",
     "text": [
      "     Direct Beam    GlobalHz\n",
      "day                         \n",
      "1     317.898291  192.008489\n",
      "2     318.183234  192.444984\n",
      "3     318.489604  192.920433\n",
      "4     318.817051  193.434516\n",
      "5     319.165198  193.986881\n",
      "..           ...         ...\n",
      "361   316.805411  190.419558\n",
      "362   316.978888  190.657475\n",
      "363   317.175142  190.935514\n",
      "364   317.393959  191.253503\n",
      "365   331.445319  199.942160\n",
      "\n",
      "[365 rows x 2 columns]\n"
     ]
    }
   ],
   "source": [
    "df_agg = df.groupby('day')[['Direct Beam', 'GlobalHz']].mean()\n",
    "print(df_agg)"
   ]
  },
  {
   "cell_type": "markdown",
   "metadata": {},
   "source": [
    "SHOW YEARLY MEAN GLOBAL HORIZONTAL IRRADIANCE (GlobalHz Column)"
   ]
  },
  {
   "cell_type": "code",
   "execution_count": 20,
   "metadata": {},
   "outputs": [
    {
     "data": {
      "text/html": [
       "<div>\n",
       "<style scoped>\n",
       "    .dataframe tbody tr th:only-of-type {\n",
       "        vertical-align: middle;\n",
       "    }\n",
       "\n",
       "    .dataframe tbody tr th {\n",
       "        vertical-align: top;\n",
       "    }\n",
       "\n",
       "    .dataframe thead th {\n",
       "        text-align: right;\n",
       "    }\n",
       "</style>\n",
       "<table border=\"1\" class=\"dataframe\">\n",
       "  <thead>\n",
       "    <tr style=\"text-align: right;\">\n",
       "      <th></th>\n",
       "      <th>Direct Beam</th>\n",
       "      <th>GlobalHz</th>\n",
       "    </tr>\n",
       "  </thead>\n",
       "  <tbody>\n",
       "    <tr>\n",
       "      <th>count</th>\n",
       "      <td>365.000000</td>\n",
       "      <td>365.000000</td>\n",
       "    </tr>\n",
       "    <tr>\n",
       "      <th>mean</th>\n",
       "      <td>380.929561</td>\n",
       "      <td>286.300178</td>\n",
       "    </tr>\n",
       "    <tr>\n",
       "      <th>std</th>\n",
       "      <td>39.861491</td>\n",
       "      <td>59.396722</td>\n",
       "    </tr>\n",
       "    <tr>\n",
       "      <th>min</th>\n",
       "      <td>316.240528</td>\n",
       "      <td>189.835737</td>\n",
       "    </tr>\n",
       "    <tr>\n",
       "      <th>25%</th>\n",
       "      <td>343.677310</td>\n",
       "      <td>227.783430</td>\n",
       "    </tr>\n",
       "    <tr>\n",
       "      <th>50%</th>\n",
       "      <td>390.815902</td>\n",
       "      <td>300.139609</td>\n",
       "    </tr>\n",
       "    <tr>\n",
       "      <th>75%</th>\n",
       "      <td>416.325269</td>\n",
       "      <td>344.234676</td>\n",
       "    </tr>\n",
       "    <tr>\n",
       "      <th>max</th>\n",
       "      <td>432.447283</td>\n",
       "      <td>356.068331</td>\n",
       "    </tr>\n",
       "  </tbody>\n",
       "</table>\n",
       "</div>"
      ],
      "text/plain": [
       "       Direct Beam    GlobalHz\n",
       "count   365.000000  365.000000\n",
       "mean    380.929561  286.300178\n",
       "std      39.861491   59.396722\n",
       "min     316.240528  189.835737\n",
       "25%     343.677310  227.783430\n",
       "50%     390.815902  300.139609\n",
       "75%     416.325269  344.234676\n",
       "max     432.447283  356.068331"
      ]
     },
     "execution_count": 20,
     "metadata": {},
     "output_type": "execute_result"
    }
   ],
   "source": [
    "df_agg.describe()"
   ]
  }
 ],
 "metadata": {
  "kernelspec": {
   "display_name": "Python 3",
   "language": "python",
   "name": "python3"
  },
  "language_info": {
   "codemirror_mode": {
    "name": "ipython",
    "version": 3
   },
   "file_extension": ".py",
   "mimetype": "text/x-python",
   "name": "python",
   "nbconvert_exporter": "python",
   "pygments_lexer": "ipython3",
   "version": "3.10.6"
  }
 },
 "nbformat": 4,
 "nbformat_minor": 2
}
